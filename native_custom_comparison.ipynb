{
 "cells": [
  {
   "cell_type": "code",
   "execution_count": 1,
   "metadata": {},
   "outputs": [],
   "source": [
    "import pandas as pd"
   ]
  },
  {
   "cell_type": "code",
   "execution_count": 2,
   "metadata": {},
   "outputs": [],
   "source": [
    "df = pd.read_csv('data.csv')\n",
    "features = df.columns"
   ]
  },
  {
   "cell_type": "code",
   "execution_count": 3,
   "metadata": {},
   "outputs": [],
   "source": [
    "native_features = [f for f in features if f.startswith('android') or f.startswith('com.android')]"
   ]
  },
  {
   "cell_type": "code",
   "execution_count": 4,
   "metadata": {},
   "outputs": [],
   "source": [
    "custom_features = [f for f in features if not f in native_features and not f=='Result']"
   ]
  },
  {
   "cell_type": "code",
   "execution_count": 5,
   "metadata": {},
   "outputs": [],
   "source": [
    "native_df = df[native_features]\n",
    "custom_df = df[custom_features]\n",
    "label = df['Result']"
   ]
  },
  {
   "cell_type": "markdown",
   "metadata": {},
   "source": [
    "# Training only with native permissions"
   ]
  },
  {
   "cell_type": "code",
   "execution_count": 6,
   "metadata": {},
   "outputs": [],
   "source": [
    "from sklearn.model_selection import train_test_split\n",
    "\n",
    "X_train_native, X_test_native, y_train_native, y_test_native = train_test_split(native_df, label, test_size=0.3, random_state=69)\n",
    "X_test_native, X_val_native, y_test_native, y_val_native = train_test_split(X_test_native, y_test_native, test_size=0.5, random_state=69)"
   ]
  },
  {
   "cell_type": "code",
   "execution_count": 7,
   "metadata": {},
   "outputs": [],
   "source": [
    "from sklearn.linear_model import LogisticRegression\n",
    "from sklearn.neighbors import KNeighborsClassifier\n",
    "from sklearn.svm import SVC\n",
    "from sklearn.tree import DecisionTreeClassifier\n",
    "from sklearn.ensemble import AdaBoostClassifier, RandomForestClassifier\n",
    "from xgboost import XGBClassifier"
   ]
  },
  {
   "cell_type": "code",
   "execution_count": 8,
   "metadata": {},
   "outputs": [],
   "source": [
    "model_objs = [LogisticRegression(), KNeighborsClassifier(), SVC(kernel='linear'), SVC(kernel='rbf'), SVC(kernel='poly'), DecisionTreeClassifier(), AdaBoostClassifier(), RandomForestClassifier(), XGBClassifier()]\n",
    "model_names = ['LogisticRegression', 'KNeighborsClassifier', 'Linear SVC', 'Gaussian SVC', 'Polynomial SVC', 'DecisionTreeClassifier', 'AdaBoostClassifier', 'RandomForestClassifier', 'XGBClassifier']"
   ]
  },
  {
   "cell_type": "code",
   "execution_count": 9,
   "metadata": {},
   "outputs": [],
   "source": [
    "from sklearn.metrics import accuracy_score, precision_score, recall_score, f1_score, roc_auc_score"
   ]
  },
  {
   "cell_type": "code",
   "execution_count": 10,
   "metadata": {},
   "outputs": [
    {
     "name": "stdout",
     "output_type": "stream",
     "text": [
      "MODEL: LogisticRegression\n",
      "Accuracy: 0.9440909090909091\n",
      "Precision: 0.9599631845375057\n",
      "Recall: 0.9291759465478842\n",
      "F1: 0.9443186962426438\n",
      "ROC AUC: 0.9444023584247541\n",
      "\n",
      "\n",
      "MODEL: KNeighborsClassifier\n",
      "Accuracy: 0.955\n",
      "Precision: 0.9622641509433962\n",
      "Recall: 0.9474399637516991\n",
      "F1: 0.9547945205479452\n",
      "ROC AUC: 0.955024131442653\n",
      "\n",
      "\n",
      "MODEL: Linear SVC\n",
      "Accuracy: 0.9377272727272727\n",
      "Precision: 0.9599631845375057\n",
      "Recall: 0.9177298724153101\n",
      "F1: 0.9383715699505173\n",
      "ROC AUC: 0.9384135962922814\n",
      "\n",
      "\n",
      "MODEL: Gaussian SVC\n",
      "Accuracy: 0.9534090909090909\n",
      "Precision: 0.9613437643810401\n",
      "Recall: 0.9452488687782805\n",
      "F1: 0.9532283823864932\n",
      "ROC AUC: 0.9534463521973594\n",
      "\n",
      "\n",
      "MODEL: Polynomial SVC\n",
      "Accuracy: 0.9488636363636364\n",
      "Precision: 0.9507593189139438\n",
      "Recall: 0.9459706959706959\n",
      "F1: 0.9483589625889374\n",
      "ROC AUC: 0.9488427487073696\n",
      "\n",
      "\n",
      "MODEL: DecisionTreeClassifier\n",
      "Accuracy: 0.9588636363636364\n",
      "Precision: 0.9590427979751496\n",
      "Recall: 0.9577205882352942\n",
      "F1: 0.9583812370659923\n",
      "ROC AUC: 0.9588513013118917\n",
      "\n",
      "\n",
      "MODEL: AdaBoostClassifier\n",
      "Accuracy: 0.9413636363636364\n",
      "Precision: 0.9608835710998619\n",
      "Recall: 0.9234851835471031\n",
      "F1: 0.9418132611637348\n",
      "ROC AUC: 0.9418734940643416\n",
      "\n",
      "\n",
      "MODEL: RandomForestClassifier\n",
      "Accuracy: 0.9645454545454546\n",
      "Precision: 0.9645651173492867\n",
      "Recall: 0.9636781609195403\n",
      "F1: 0.9641214351425944\n",
      "ROC AUC: 0.9645357096732532\n",
      "\n",
      "\n",
      "MODEL: XGBClassifier\n",
      "Accuracy: 0.9597727272727272\n",
      "Precision: 0.9627243442245743\n",
      "Recall: 0.9561243144424132\n",
      "F1: 0.959412978674616\n",
      "ROC AUC: 0.9597529347980601\n",
      "\n",
      "\n"
     ]
    }
   ],
   "source": [
    "for m_obj, m_name in zip(model_objs, model_names):\n",
    "    m_obj.fit(X_train_native, y_train_native),\n",
    "    y_pred = m_obj.predict(X_test_native)\n",
    "    acc = accuracy_score(y_pred, y_test_native)\n",
    "    precision = precision_score(y_pred, y_test_native)\n",
    "    recall = recall_score(y_pred, y_test_native)\n",
    "    f1 = f1_score(y_pred, y_test_native)\n",
    "    roc_auc = roc_auc_score(y_pred, y_test_native)\n",
    "    print('MODEL: {}'.format(m_name))\n",
    "    print('Accuracy: {}'.format(acc))\n",
    "    print('Precision: {}'.format(precision))\n",
    "    print('Recall: {}'.format(recall))\n",
    "    print('F1: {}'.format(f1))\n",
    "    print('ROC AUC: {}'.format(roc_auc))\n",
    "    print()\n",
    "    print()"
   ]
  },
  {
   "cell_type": "code",
   "execution_count": 11,
   "metadata": {},
   "outputs": [
    {
     "data": {
      "text/plain": [
       "RandomForestClassifier(criterion='entropy', max_features='sqrt',\n",
       "                       n_estimators=600)"
      ]
     },
     "execution_count": 11,
     "metadata": {},
     "output_type": "execute_result"
    }
   ],
   "source": [
    "model = RandomForestClassifier(criterion='entropy', max_features='sqrt', n_estimators=600)\n",
    "model.fit(X_train_native, y_train_native)"
   ]
  },
  {
   "cell_type": "code",
   "execution_count": 12,
   "metadata": {},
   "outputs": [
    {
     "name": "stdout",
     "output_type": "stream",
     "text": [
      "Accuracy: 0.965\n",
      "Precision: 0.9650253106304648\n",
      "Recall: 0.9641379310344828\n",
      "F1: 0.9645814167433302\n",
      "ROC AUC: 0.9649903138318482\n",
      "\n",
      "\n",
      "VALIDATION\n",
      "Accuracy: 0.9602272727272727\n",
      "Precision: 0.9585006693440429\n",
      "Recall: 0.9632286995515695\n",
      "F1: 0.9608588682621338\n",
      "ROC AUC: 0.9601857783472134\n"
     ]
    }
   ],
   "source": [
    "y_pred = model.predict(X_test_native)\n",
    "acc = accuracy_score(y_pred, y_test_native)\n",
    "precision = precision_score(y_pred, y_test_native)\n",
    "recall = recall_score(y_pred, y_test_native)\n",
    "f1 = f1_score(y_pred, y_test_native)\n",
    "roc_auc = roc_auc_score(y_pred, y_test_native)\n",
    "print('Accuracy: {}'.format(acc))\n",
    "print('Precision: {}'.format(precision))\n",
    "print('Recall: {}'.format(recall))\n",
    "print('F1: {}'.format(f1))\n",
    "print('ROC AUC: {}'.format(roc_auc))\n",
    "print()\n",
    "print()\n",
    "\n",
    "y_pred_val = model.predict(X_val_native)\n",
    "acc_val = accuracy_score(y_pred_val, y_val_native)\n",
    "precision_val = precision_score(y_pred_val, y_val_native)\n",
    "recall_val = recall_score(y_pred_val, y_val_native)\n",
    "f1_val = f1_score(y_pred_val, y_val_native)\n",
    "roc_auc_val = roc_auc_score(y_pred_val, y_val_native)\n",
    "print('VALIDATION')\n",
    "print('Accuracy: {}'.format(acc_val))\n",
    "print('Precision: {}'.format(precision_val))\n",
    "print('Recall: {}'.format(recall_val))\n",
    "print('F1: {}'.format(f1_val))\n",
    "print('ROC AUC: {}'.format(roc_auc_val))"
   ]
  },
  {
   "cell_type": "markdown",
   "metadata": {},
   "source": [
    "# Training on custom features"
   ]
  },
  {
   "cell_type": "code",
   "execution_count": 13,
   "metadata": {},
   "outputs": [],
   "source": [
    "from sklearn.model_selection import train_test_split\n",
    "\n",
    "X_train_custom, X_test_custom, y_train_custom, y_test_custom = train_test_split(custom_df, label, test_size=0.3, random_state=69)\n",
    "X_test_custom, X_val_custom, y_test_custom, y_val_custom = train_test_split(X_test_custom, y_test_custom, test_size=0.5, random_state=69)"
   ]
  },
  {
   "cell_type": "code",
   "execution_count": 14,
   "metadata": {},
   "outputs": [
    {
     "name": "stdout",
     "output_type": "stream",
     "text": [
      "MODEL: LogisticRegression\n",
      "Accuracy: 0.72\n",
      "Precision: 0.9843534284399448\n",
      "Recall: 0.6409949056038358\n",
      "F1: 0.7764065335753176\n",
      "ROC AUC: 0.8045049786720966\n",
      "\n",
      "\n",
      "MODEL: KNeighborsClassifier\n",
      "Accuracy: 0.5136363636363637\n",
      "Precision: 0.016106764841233318\n",
      "Recall: 0.9459459459459459\n",
      "F1: 0.03167420814479638\n",
      "ROC AUC: 0.7279580749670138\n",
      "\n",
      "\n",
      "MODEL: Linear SVC\n",
      "Accuracy: 0.7202272727272727\n",
      "Precision: 0.9843534284399448\n",
      "Recall: 0.6411870503597122\n",
      "F1: 0.7765474677799964\n",
      "ROC AUC: 0.8046160815708336\n",
      "\n",
      "\n",
      "MODEL: Gaussian SVC\n",
      "Accuracy: 0.7204545454545455\n",
      "Precision: 0.9843534284399448\n",
      "Recall: 0.6413793103448275\n",
      "F1: 0.7766884531590413\n",
      "ROC AUC: 0.8047272138578598\n",
      "\n",
      "\n",
      "MODEL: Polynomial SVC\n",
      "Accuracy: 0.7204545454545455\n",
      "Precision: 0.9843534284399448\n",
      "Recall: 0.6413793103448275\n",
      "F1: 0.7766884531590413\n",
      "ROC AUC: 0.8047272138578598\n",
      "\n",
      "\n",
      "MODEL: DecisionTreeClassifier\n",
      "Accuracy: 0.7202272727272727\n",
      "Precision: 0.9843534284399448\n",
      "Recall: 0.6411870503597122\n",
      "F1: 0.7765474677799964\n",
      "ROC AUC: 0.8046160815708336\n",
      "\n",
      "\n",
      "MODEL: AdaBoostClassifier\n",
      "Accuracy: 0.7202272727272727\n",
      "Precision: 0.9843534284399448\n",
      "Recall: 0.6411870503597122\n",
      "F1: 0.7765474677799964\n",
      "ROC AUC: 0.8046160815708336\n",
      "\n",
      "\n",
      "MODEL: RandomForestClassifier\n",
      "Accuracy: 0.7204545454545455\n",
      "Precision: 0.9843534284399448\n",
      "Recall: 0.6413793103448275\n",
      "F1: 0.7766884531590413\n",
      "ROC AUC: 0.8047272138578598\n",
      "\n",
      "\n",
      "MODEL: XGBClassifier\n",
      "Accuracy: 0.7202272727272727\n",
      "Precision: 0.9843534284399448\n",
      "Recall: 0.6411870503597122\n",
      "F1: 0.7765474677799964\n",
      "ROC AUC: 0.8046160815708336\n",
      "\n",
      "\n"
     ]
    }
   ],
   "source": [
    "for m_obj, m_name in zip(model_objs, model_names):\n",
    "    m_obj.fit(X_train_custom, y_train_custom),\n",
    "    y_pred = m_obj.predict(X_test_custom)\n",
    "    acc = accuracy_score(y_pred, y_test_custom)\n",
    "    precision = precision_score(y_pred, y_test_custom)\n",
    "    recall = recall_score(y_pred, y_test_custom)\n",
    "    f1 = f1_score(y_pred, y_test_custom)\n",
    "    roc_auc = roc_auc_score(y_pred, y_test_custom)\n",
    "    print('MODEL: {}'.format(m_name))\n",
    "    print('Accuracy: {}'.format(acc))\n",
    "    print('Precision: {}'.format(precision))\n",
    "    print('Recall: {}'.format(recall))\n",
    "    print('F1: {}'.format(f1))\n",
    "    print('ROC AUC: {}'.format(roc_auc))\n",
    "    print()\n",
    "    print()"
   ]
  },
  {
   "cell_type": "code",
   "execution_count": 15,
   "metadata": {},
   "outputs": [
    {
     "data": {
      "text/plain": [
       "RandomForestClassifier(criterion='entropy', max_features='sqrt',\n",
       "                       n_estimators=600)"
      ]
     },
     "execution_count": 15,
     "metadata": {},
     "output_type": "execute_result"
    }
   ],
   "source": [
    "model = RandomForestClassifier(criterion='entropy', max_features='sqrt', n_estimators=600)\n",
    "model.fit(X_train_custom, y_train_custom)"
   ]
  },
  {
   "cell_type": "code",
   "execution_count": 16,
   "metadata": {},
   "outputs": [
    {
     "name": "stdout",
     "output_type": "stream",
     "text": [
      "Accuracy: 0.7204545454545455\n",
      "Precision: 0.9843534284399448\n",
      "Recall: 0.6413793103448275\n",
      "F1: 0.7766884531590413\n",
      "ROC AUC: 0.8047272138578598\n",
      "\n",
      "\n",
      "VALIDATION\n",
      "Accuracy: 0.7204545454545455\n",
      "Precision: 0.9848282016956715\n",
      "Recall: 0.6485454011166618\n",
      "F1: 0.7820694542877391\n",
      "ROC AUC: 0.8072215470979498\n"
     ]
    }
   ],
   "source": [
    "y_pred = model.predict(X_test_custom)\n",
    "acc = accuracy_score(y_pred, y_test_custom)\n",
    "precision = precision_score(y_pred, y_test_custom)\n",
    "recall = recall_score(y_pred, y_test_custom)\n",
    "f1 = f1_score(y_pred, y_test_custom)\n",
    "roc_auc = roc_auc_score(y_pred, y_test_custom)\n",
    "print('Accuracy: {}'.format(acc))\n",
    "print('Precision: {}'.format(precision))\n",
    "print('Recall: {}'.format(recall))\n",
    "print('F1: {}'.format(f1))\n",
    "print('ROC AUC: {}'.format(roc_auc))\n",
    "print()\n",
    "print()\n",
    "\n",
    "y_pred_val = model.predict(X_val_custom)\n",
    "acc_val = accuracy_score(y_pred_val, y_val_custom)\n",
    "precision_val = precision_score(y_pred_val, y_val_custom)\n",
    "recall_val = recall_score(y_pred_val, y_val_custom)\n",
    "f1_val = f1_score(y_pred_val, y_val_custom)\n",
    "roc_auc_val = roc_auc_score(y_pred_val, y_val_custom)\n",
    "print('VALIDATION')\n",
    "print('Accuracy: {}'.format(acc_val))\n",
    "print('Precision: {}'.format(precision_val))\n",
    "print('Recall: {}'.format(recall_val))\n",
    "print('F1: {}'.format(f1_val))\n",
    "print('ROC AUC: {}'.format(roc_auc_val))"
   ]
  },
  {
   "cell_type": "code",
   "execution_count": null,
   "metadata": {},
   "outputs": [],
   "source": []
  },
  {
   "cell_type": "code",
   "execution_count": null,
   "metadata": {},
   "outputs": [
    {
     "data": {
      "text/plain": [
       "RandomForestClassifier(criterion='entropy', max_features='sqrt',\n",
       "                       n_estimators=600)"
      ]
     },
     "metadata": {},
     "output_type": "display_data"
    }
   ],
   "source": [
    "model = RandomForestClassifier(criterion='entropy', max_features='sqrt', n_estimators=600)\n",
    "model.fit(X_train_native, y_train_native)"
   ]
  },
  {
   "cell_type": "code",
   "execution_count": null,
   "metadata": {},
   "outputs": [
    {
     "name": "stdout",
     "output_type": "stream",
     "text": [
      "Accuracy: 0.965\n",
      "Precision: 0.9650253106304648\n",
      "Recall: 0.9641379310344828\n",
      "F1: 0.9645814167433302\n",
      "ROC AUC: 0.9649903138318482\n",
      "\n",
      "\n",
      "VALIDATION\n",
      "Accuracy: 0.9602272727272727\n",
      "Precision: 0.9585006693440429\n",
      "Recall: 0.9632286995515695\n",
      "F1: 0.9608588682621338\n",
      "ROC AUC: 0.9601857783472134\n"
     ]
    }
   ],
   "source": [
    "y_pred = model.predict(X_test_native)\n",
    "acc = accuracy_score(y_pred, y_test_native)\n",
    "precision = precision_score(y_pred, y_test_native)\n",
    "recall = recall_score(y_pred, y_test_native)\n",
    "f1 = f1_score(y_pred, y_test_native)\n",
    "roc_auc = roc_auc_score(y_pred, y_test_native)\n",
    "print('Accuracy: {}'.format(acc))\n",
    "print('Precision: {}'.format(precision))\n",
    "print('Recall: {}'.format(recall))\n",
    "print('F1: {}'.format(f1))\n",
    "print('ROC AUC: {}'.format(roc_auc))\n",
    "print()\n",
    "print()\n",
    "\n",
    "y_pred_val = model.predict(X_val_native)\n",
    "acc_val = accuracy_score(y_pred_val, y_val_native)\n",
    "precision_val = precision_score(y_pred_val, y_val_native)\n",
    "recall_val = recall_score(y_pred_val, y_val_native)\n",
    "f1_val = f1_score(y_pred_val, y_val_native)\n",
    "roc_auc_val = roc_auc_score(y_pred_val, y_val_native)\n",
    "print('VALIDATION')\n",
    "print('Accuracy: {}'.format(acc_val))\n",
    "print('Precision: {}'.format(precision_val))\n",
    "print('Recall: {}'.format(recall_val))\n",
    "print('F1: {}'.format(f1_val))\n",
    "print('ROC AUC: {}'.format(roc_auc_val))"
   ]
  }
 ],
 "metadata": {
  "kernelspec": {
   "display_name": "base",
   "language": "python",
   "name": "python3"
  },
  "language_info": {
   "codemirror_mode": {
    "name": "ipython",
    "version": 3
   },
   "file_extension": ".py",
   "mimetype": "text/x-python",
   "name": "python",
   "nbconvert_exporter": "python",
   "pygments_lexer": "ipython3",
   "version": "3.8.8"
  }
 },
 "nbformat": 4,
 "nbformat_minor": 2
}
